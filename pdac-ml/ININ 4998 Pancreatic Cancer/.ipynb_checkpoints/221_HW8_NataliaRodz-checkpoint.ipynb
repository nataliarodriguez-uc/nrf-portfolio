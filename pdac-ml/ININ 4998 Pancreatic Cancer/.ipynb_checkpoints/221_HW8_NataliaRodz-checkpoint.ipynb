{
 "cells": [
  {
   "cell_type": "markdown",
   "metadata": {},
   "source": [
    "Natalia Rodriguez Figueroa\n",
    "221 Homework 8 Pt1"
   ]
  },
  {
   "cell_type": "markdown",
   "metadata": {},
   "source": [
    "Ex.1. Price an European call option with spot stock price S0 = 100.0, strike K = 100.0, time\n",
    "to maturity T = 1.0 year, risk free interest rate r = 6%, continuous dividend yield q = 6%,\n",
    "volatility (sigma) = 35% using Monte Carlo (MC) simulation with"
   ]
  },
  {
   "cell_type": "code",
   "execution_count": 33,
   "metadata": {},
   "outputs": [
    {
     "name": "stdout",
     "output_type": "stream",
     "text": [
      "1. Plain Monte Carlo Simulation\n",
      "call price (monte carlo)=  13.5\n",
      "call price (monte carlo) error=  0.39\n"
     ]
    }
   ],
   "source": [
    "#1. Plain MC\n",
    "print(\"1. Plain Monte Carlo Simulation\")\n",
    "\n",
    "import numpy as np #numpy library\n",
    "np.random.seed(102623) #fix random number generator\n",
    "\n",
    "#Payoff Value for Call\n",
    "def option_payoff(S,K):\n",
    "    payoff=max(S-K,0)\n",
    "    return payoff\n",
    "\n",
    "#Parameters\n",
    "S0=100\n",
    "K=100\n",
    "T=1\n",
    "r=0.06\n",
    "q=0.06\n",
    "sigma=0.35\n",
    "\n",
    "#Simulation Steps\n",
    "n_steps=100\n",
    "n_simulation=4000\n",
    "\n",
    "#Values for St Calculation\n",
    "dt=T/n_steps \n",
    "sqrt_dt=np.sqrt(dt)\n",
    "payoff=np.zeros(n_simulation,dtype=float)\n",
    "step=range(0,int(n_steps),1)\n",
    "\n",
    "#Run Simulation\n",
    "for i in range(0,n_simulation):\n",
    "    St=S0 #start at value of 100\n",
    "    for j in step:\n",
    "        epsilon=np.random.normal()\n",
    "        St *= np.exp((r-q-0.5*sigma**2)*dt + sigma*epsilon*sqrt_dt)\n",
    "    payoff[i] = option_payoff(St,K)*np.exp(-r*T)\n",
    "\n",
    "#Calculate Call Price\n",
    "call_price_mc=np.mean(payoff)\n",
    "print(\"call price (monte carlo)= \",round(call_price_mc,2))\n",
    "\n",
    "#Error Estimation\n",
    "call_price_mc_error=np.std(payoff)/np.sqrt(n_simulation)\n",
    "print(\"call price (monte carlo) error= \",round(call_price_mc_error,2))"
   ]
  },
  {
   "cell_type": "code",
   "execution_count": 34,
   "metadata": {},
   "outputs": [
    {
     "name": "stdout",
     "output_type": "stream",
     "text": [
      "2. Antithetic Method by Sampling Paths\n",
      "call price (antithetic method) =  13.35\n",
      "call price (antithetic method) error=  0.23\n"
     ]
    }
   ],
   "source": [
    "#2. Antithetic Method by Sampling Paths\n",
    "print(\"2. Antithetic Method by Sampling Paths\")\n",
    "\n",
    "import numpy as np #numpy library\n",
    "np.random.seed(102623) #fix random number generator\n",
    "\n",
    "#Payoff Value for Call\n",
    "def option_payoff(S,K):\n",
    "    payoff=max(S-K,0)\n",
    "    return payoff\n",
    "\n",
    "#Parameters\n",
    "S0=100\n",
    "K=100\n",
    "T=1\n",
    "r=0.06\n",
    "q=0.06\n",
    "sigma=0.35\n",
    "\n",
    "#Simulation Steps\n",
    "n_steps=100\n",
    "n_simulation=4000\n",
    "\n",
    "#Values for St Calculation\n",
    "dt=T/n_steps \n",
    "sqrt_dt=np.sqrt(dt)\n",
    "payoff=np.zeros(n_simulation,dtype=float)\n",
    "step=range(0,int(n_steps),1)\n",
    "\n",
    "#Antithetic Path\n",
    "antithetic_paths = np.zeros((n_simulation, n_steps))\n",
    "\n",
    "# Run Simulation\n",
    "for i in range(0, n_simulation):\n",
    "    St = S0\n",
    "    St_antithetic = S0  \n",
    "    for j in step:\n",
    "        epsilon = np.random.normal()\n",
    "        epsilon_antithetic = -epsilon \n",
    "\n",
    "        St *= np.exp((r - q - 0.5 * sigma**2) * dt \n",
    "                + sigma * epsilon * sqrt_dt)\n",
    "        St_antithetic *= np.exp((r - q - 0.5 * sigma**2) * dt \n",
    "                + sigma * epsilon_antithetic * sqrt_dt)\n",
    "\n",
    "        antithetic_paths[i, j] = St_antithetic  #Store antithetic path\n",
    "\n",
    "    payoff[i] =0.5*np.exp(-r*T)*(option_payoff(St, K) + \n",
    "                    option_payoff(antithetic_paths[i, -1],K))\n",
    "\n",
    "# Calculate Call Price with Antithetic Variates\n",
    "call_price_antithetic = np.mean(payoff)\n",
    "print(\"call price (antithetic method) = \", round(call_price_antithetic, 2))\n",
    "\n",
    "#Error Estimation\n",
    "call_price_antithetic_error=np.std(payoff)/np.sqrt(n_simulation)\n",
    "print(\"call price (antithetic method) error= \",\n",
    "      round(call_price_antithetic_error,2))"
   ]
  },
  {
   "cell_type": "code",
   "execution_count": 36,
   "metadata": {},
   "outputs": [
    {
     "name": "stdout",
     "output_type": "stream",
     "text": [
      "3. Control Variate Method with Et[ST]\n",
      "call price (control variate)=  13.28\n",
      "call price (control variate) error =  0.18\n"
     ]
    }
   ],
   "source": [
    "#3. Control Variate Method using S as the Control Function\n",
    "print(\"3. Control Variate Method with Et[ST]\")\n",
    "\n",
    "import numpy as np #numpy library\n",
    "np.random.seed(102623) #fix random number generator\n",
    "\n",
    "#Payoff Value for Call\n",
    "def option_payoff(S,K):\n",
    "    payoff=max(S-K,0)\n",
    "    return payoff\n",
    "\n",
    "#Parameters\n",
    "S0=100\n",
    "K=100\n",
    "T=1\n",
    "r=0.06\n",
    "q=0.06\n",
    "sigma=0.35\n",
    "beta=0.5 #estimated value to play around with\n",
    "\n",
    "#Simulation Steps\n",
    "n_steps=100\n",
    "n_simulation=4000\n",
    "\n",
    "#Values for St Calculation\n",
    "dt=T/n_steps \n",
    "sqrt_dt=np.sqrt(dt)\n",
    "payoff_function=np.zeros(n_simulation,dtype=float) \n",
    "payoff_St=np.zeros(n_simulation,dtype=float) \n",
    "call_price_store=np.zeros(n_simulation,dtype=float)\n",
    "step=range(0,int(n_steps),1)\n",
    "\n",
    "for i in range(0, n_simulation):\n",
    "    St = S0\n",
    "    for j in step:\n",
    "        epsilon = np.random.normal()\n",
    "        St *= np.exp((r - q - 0.5 * sigma**2) * dt \n",
    "                     + sigma * epsilon * sqrt_dt)\n",
    "        \n",
    "    payoff_function[i] = option_payoff(St, K)\n",
    "    payoff_St[i] = St\n",
    "    ESt = S0*np.exp((r - q)*(T-0))\n",
    "    call_price_store[i]= payoff_function[i]*np.exp(-r*T)\n",
    "    -beta*(payoff_St[i]*np.exp(-r*T)-ESt*np.exp(-r*T))\n",
    "    \n",
    "#Calculate Call Price\n",
    "call_price_ctrlvar= np.mean(call_price_store)\n",
    "print(\"call price (control variate)= \",round(call_price_ctrlvar,2)) \n",
    "\n",
    "#Error Estimation\n",
    "call_price_ctrlvar_error = np.std(call_price_store)/np.sqrt(n_simulation)\n",
    "print(\"call price (control variate) error = \",\n",
    "      round(call_price_ctrlvar_error,2))"
   ]
  },
  {
   "cell_type": "code",
   "execution_count": 32,
   "metadata": {},
   "outputs": [
    {
     "name": "stdout",
     "output_type": "stream",
     "text": [
      "call price (bsm)=  13.08\n"
     ]
    }
   ],
   "source": [
    "#Call Price with the BSM Formula for the Comparison Part\n",
    "from scipy.stats import norm #normal distribution library\n",
    "\n",
    "d1 = (np.log(S0 / K) + (r - q + 0.5 * sigma ** 2) * T) / \n",
    "    (sigma * np.sqrt(T))\n",
    "d2 = d1 - sigma * np.sqrt(T)\n",
    "call_price_bsm = S0 * np.exp(-q * T) * norm.cdf(d1) - \n",
    "    K * np.exp(-r * T) * norm.cdf(d2)\n",
    "print(\"call price (bsm)= \",round(call_price_bsm,2))"
   ]
  }
 ],
 "metadata": {
  "kernelspec": {
   "display_name": "Python 3",
   "language": "python",
   "name": "python3"
  },
  "language_info": {
   "codemirror_mode": {
    "name": "ipython",
    "version": 3
   },
   "file_extension": ".py",
   "mimetype": "text/x-python",
   "name": "python",
   "nbconvert_exporter": "python",
   "pygments_lexer": "ipython3",
   "version": "3.8.5"
  }
 },
 "nbformat": 4,
 "nbformat_minor": 4
}
