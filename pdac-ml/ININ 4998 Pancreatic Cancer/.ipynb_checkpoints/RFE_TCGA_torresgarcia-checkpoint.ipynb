{
 "cells": [
  {
   "cell_type": "markdown",
   "metadata": {},
   "source": [
    "# Data Preprocessing "
   ]
  },
  {
   "cell_type": "code",
   "execution_count": 1,
   "metadata": {
    "scrolled": false
   },
   "outputs": [
    {
     "name": "stdout",
     "output_type": "stream",
     "text": [
      "(20471, 178)\n",
      "(20471, 178)\n",
      "(177, 20471)\n",
      "(177, 19783)\n",
      "(177, 19783)\n"
     ]
    }
   ],
   "source": [
    "#Data preprocessing as performed by Natalia Rodríguez except files ending with 1\n",
    "\n",
    "#Importing data set 1 \n",
    "import pandas as pd\n",
    "df = pd.read_csv(\"data_clinical_patient.txt\", sep='\\t')\n",
    "#print(df)\n",
    "#print (len(df))\n",
    "#print (df.head(1))\n",
    "#print (df.size)\n",
    "#print (df.shape)\n",
    "\n",
    "#counting Na's in data set 1 \n",
    "df.isnull()\n",
    "df.isnull().sum().sum()\n",
    "df.isnull().sum()\n",
    "\n",
    "#characterizing data \n",
    "df.loc[df['Overall Survival Status']== \"1:DECEASED\", 'Overall Survival Status']= '1'\n",
    "df.loc[df['Overall Survival Status']== \"0:LIVING\", 'Overall Survival Status']= '0'\n",
    "df.drop([0,1,2,3],axis=0,inplace=True)\n",
    "\n",
    "#changing column name \n",
    "df.rename(columns={\"#Patient Identifier\": \"PatientID\"},inplace=True)\n",
    "df.rename(columns={\"Overall Survival Status\": \"OS\"},inplace=True)\n",
    "df\n",
    "\n",
    "#selecting columns to analyze \n",
    "nr= df.iloc[:, [0,30]] #columnas a analizar\n",
    "nr\n",
    "\n",
    "#importing Data Set 2 \n",
    "df2 = pd.read_csv(\"data_RNA_Seq_v2_mRNA_median_Zscores.txt\", sep='\\t')\n",
    "#print (len(df2))\n",
    "#print (df2.head(1))\n",
    "#print (df2.size)\n",
    "#print (df2.shape)\n",
    "\n",
    "df2.drop('Entrez_Gene_Id', inplace=True,axis=1)\n",
    "df2\n",
    "\n",
    "#changing column name & remove NAs\n",
    "print(df2.shape)\n",
    "df2.dropna(subset=['Hugo_Symbol'],inplace=True)\n",
    "df2.rename(columns={\"Hugo_Symbol\": \"PatientID\"},inplace=True)\n",
    "print(df2.shape)\n",
    "df2\n",
    "\n",
    "#transposing data set \n",
    "df3 = df2.set_index('PatientID').T\n",
    "df3\n",
    "\n",
    "#pre-processing data set \n",
    "df3.index=df3.index.map(lambda x:str(x)[:-3])\n",
    "df3.index\n",
    "\n",
    "#Counting Na's in columns & estimating how many genes with complete column of missing values\n",
    "df3.isnull().sum().sum()/177\n",
    "\n",
    "#eliminating Na's \n",
    "print(df3.shape)\n",
    "dfn=df3.dropna(1)\n",
    "print(dfn.shape)\n",
    "dfn\n",
    "\n",
    "#merge data sets \n",
    "result=dfn.merge(nr,right_on='PatientID', left_index=True)\n",
    "result=result.set_index('PatientID')\n",
    "result\n",
    "\n",
    "#selecting columns\n",
    "X= result.drop(['OS'],axis=1)\n",
    "Y= result.iloc[:,[-1]]\n",
    "\n",
    "#finding data dimensions \n",
    "print(X.shape)\n",
    "#print(Y.shape)\n",
    "\n",
    "Y = Y['OS']"
   ]
  },
  {
   "cell_type": "code",
   "execution_count": 2,
   "metadata": {},
   "outputs": [],
   "source": [
    "#Libraries\n",
    "from sklearn.linear_model import LogisticRegression\n",
    "from sklearn.pipeline import Pipeline\n",
    "from sklearn.preprocessing import StandardScaler\n",
    "from sklearn.svm import LinearSVC\n",
    "from sklearn.datasets import make_moons\n",
    "from sklearn.preprocessing import PolynomialFeatures\n",
    "from sklearn.ensemble import RandomForestClassifier\n",
    "from sklearn.tree import DecisionTreeClassifier\n",
    "from sklearn.model_selection import cross_val_score\n",
    "from sklearn.model_selection import train_test_split\n",
    "from sklearn.svm import SVC\n",
    "from sklearn.metrics import precision_score, recall_score, roc_auc_score, roc_curve\n",
    "from sklearn.model_selection import cross_val_predict\n",
    "\n",
    "import pandas as pd\n",
    "import matplotlib.pyplot as plt\n",
    "import seaborn\n",
    "from sklearn.impute import SimpleImputer\n",
    "import numpy as np\n",
    "from sklearn.pipeline import Pipeline\n",
    "from sklearn.svm import LinearSVC\n",
    "from sklearn.datasets import make_moons\n",
    "from sklearn.preprocessing import PolynomialFeatures\n",
    "from sklearn.ensemble import RandomForestClassifier\n",
    "from sklearn.tree import DecisionTreeClassifier\n",
    "from sklearn.model_selection import cross_val_score\n",
    "from sklearn.model_selection import train_test_split\n",
    "from sklearn.svm import SVC\n",
    "from sklearn.linear_model import LogisticRegression\n",
    "from sklearn.metrics import roc_auc_score, roc_curve\n",
    "from sklearn.model_selection import cross_val_predict\n",
    "from sklearn.metrics import accuracy_score\n",
    "from sklearn.feature_selection import SelectKBest, f_classif\n",
    "\n",
    "#For RFE\n",
    "import sklearn\n",
    "from sklearn.feature_selection import RFE\n",
    "#---\n",
    "#wtg added\n",
    "from sklearn.feature_selection import RFECV\n",
    "from sklearn.model_selection import StratifiedKFold\n",
    "from sklearn.model_selection import GridSearchCV\n",
    "from sklearn.model_selection import RepeatedStratifiedKFold\n",
    "from numpy import mean\n",
    "from numpy import std\n",
    "import math\n",
    "from sklearn.metrics import roc_curve, auc\n",
    "#--_\n",
    "from sklearn.ensemble import RandomForestClassifier\n",
    "import time \n",
    "import datetime"
   ]
  },
  {
   "cell_type": "markdown",
   "metadata": {},
   "source": [
    "# Feature Selection (RFE)"
   ]
  },
  {
   "cell_type": "markdown",
   "metadata": {},
   "source": [
    "# In-Built Function"
   ]
  },
  {
   "cell_type": "code",
   "execution_count": 3,
   "metadata": {},
   "outputs": [],
   "source": [
    "#Full function using CV revised by W. Torres-Garcia on 10/25/2021\n",
    "\n",
    "def RFE_function(X,Y,learner,k,s,folds,score):\n",
    "    #Start Timer\n",
    "    t0= time.time()\n",
    "    #RFE\n",
    "    rfe = RFE(\n",
    "        estimator=learner,\n",
    "        n_features_to_select=k,\n",
    "        step=s,\n",
    "    )\n",
    "    rfe.fit(X,Y)\n",
    "\n",
    "    #Result Matrix\n",
    "    Xred=X.loc[:, rfe.support_]\n",
    "    print(\"Optimal features : \" , list(Xred.columns))    \n",
    "    \n",
    "    #Learner initial evaluation\n",
    "    pipeline = Pipeline(steps=[('s',rfe),('m',learner)])\n",
    "    # evaluate model\n",
    "    cv = RepeatedStratifiedKFold(n_splits=folds, n_repeats=3, random_state=1)\n",
    "    n_scores = cross_val_score(pipeline, X, Y, scoring=score, cv=folds, n_jobs=-1, error_score='raise')\n",
    "    # report performance\n",
    "    print(str(score)+ ': %.3f (%.3f)' % (mean(n_scores), std(n_scores)))\n",
    "    \n",
    "    #Stop Timer and Calculate Elapsed Time\n",
    "    t1 = time.time() - t0\n",
    "    t_s = t1\n",
    "    t_hr = round(t_s/3600,3)\n",
    "    print(\"Execution time: \", t_hr)\n",
    "    \n",
    "    #Save Time as Txt File\n",
    "    import os\n",
    "    file_exists=os.path.isfile('./RFE_Info.txt.txt')\n",
    "    run_date = datetime.datetime.now()\n",
    "    \n",
    "    if file_exists:\n",
    "        file_object = open(\"RFE_Info.txt\",\"a\")\n",
    "        file_object.write(str(run_date)+ \"\\t\" +'RFE\\t' + str(learner) + \n",
    "                          \"\\t\" + str(k) +  \n",
    "                          \"\\t\" + str(round(mean(n_scores),3)) +\n",
    "                          \"\\t\" + str(round(std(n_scores),3)) +\n",
    "                          '\\t' + str(t_hr) + \n",
    "                          '\\t' + str(list(Xred.columns))+'\\n')\n",
    "        file_object.close()\n",
    "    else:\n",
    "        file_object = open(\"RFE_Info.txt\",\"a\")\n",
    "        file_object.write('Run_Date\\t'+'RFE_Model\\t'+'Learner\\t'+'k\\t'+'Mean CV scores\\t'+'Std CV scores\\t'+'Execution Hours\\t'+'Selected Features\\t'+'\\n'+\n",
    "                          str(run_date)+ \"\\t\" +'RFE\\t' + str(learner) + \n",
    "                          \"\\t\" + str(k) +  \n",
    "                          \"\\t\" + str(round(mean(n_scores),3)) +\n",
    "                          \"\\t\" + str(round(std(n_scores),3)) +\n",
    "                          '\\t' + str(t_hr) + \n",
    "                          '\\t' + str(list(Xred.columns))+'\\n')\n",
    "        file_object.close()        \n",
    "   \n",
    "    #Create CSV Name\n",
    "    csv_name = str(\"RFE_\" + str(learner) + \"k_\" + str(k)+ \".csv\")\n",
    "\n",
    "    #Save to ININ4998 Pancreatic Cancer Folder\n",
    "    #display(Xred)\n",
    "    Xred.to_csv(csv_name)\n",
    "    \n",
    "    return rfe"
   ]
  },
  {
   "cell_type": "code",
   "execution_count": 18,
   "metadata": {},
   "outputs": [
    {
     "name": "stdout",
     "output_type": "stream",
     "text": [
      "Optimal features :  ['SNAP29', 'SNAPC3', 'SNTA1', 'SOBP', 'SOCS4', 'SPAG8', 'SPATA2L', 'SPDYA', 'SPG7', 'SPIN2B', 'SPRN', 'SQLE', 'SRI', 'SRL', 'SSBP2', 'ST3GAL2', 'STARD5', 'STEAP1', 'STX3', 'SYCP2L', 'TAF5', 'TAOK2', 'TAPT1', 'TAS2R20', 'TAX1BP1', 'TDRD9', 'TEKT3', 'TES', 'TFCP2L1', 'TGM2', 'THSD1P1', 'TIGD2', 'TINF2', 'TJP2', 'TMC2', 'TMCC1', 'TMEM123', 'TMEM151B', 'TMEM159', 'TMEM168', 'TMEM175', 'TMEM20', 'TMEM48', 'TMEM52', 'TMEM86B', 'TNF', 'TNFRSF6B', 'TNK2', 'TOB1', 'TRIM67', 'UBE2H', 'UBE2J1', 'UBE2L3', 'UBE3C', 'UBFD1', 'UBXN2A', 'UCA1', 'UCK1', 'UFD1L', 'UNC119', 'UNC93B1', 'UNK', 'UPB1', 'UQCRH', 'USP20', 'USP39', 'UTP23', 'UTP3', 'VAMP1', 'VBP1', 'VPS41', 'VPS4B', 'VPS53', 'WASH7P', 'WASL', 'WDR19', 'WDR1', 'WDR20', 'WDR24', 'WDR63', 'WDR74', 'WDR8', 'WHAMML1', 'WHSC1L1', 'WNT5A', 'WNT5B', 'WNT7A', 'WWP1', 'XK', 'XRCC6', 'YDJC', 'YPEL3', 'YTHDC1', 'YWHAZ', 'ZBTB39', 'ZBTB48', 'ZBTB49', 'ZBTB6', 'ZC3H18', 'ZC3HAV1L']\n",
      "accuracy: 0.638 (0.068)\n",
      "Execution time:  22.348\n"
     ]
    }
   ],
   "source": [
    "#Execution cell: RFE_function\n",
    "\n",
    "#Input variables:X,Y,learner,k,s,fold,score\n",
    "k = 100  # number of features to consider\n",
    "learner=RandomForestClassifier()\n",
    "s = 1\n",
    "score = \"accuracy\"\n",
    "#score = \"roc_auc\"\n",
    "folds=5\n",
    "rfe=RFE_function(X,Y,learner,k,s,folds,score)\n",
    "Xred=X.loc[:, rfe.support_]"
   ]
  },
  {
   "cell_type": "markdown",
   "metadata": {},
   "source": [
    "# Classification Models"
   ]
  },
  {
   "cell_type": "code",
   "execution_count": 5,
   "metadata": {},
   "outputs": [],
   "source": [
    "#Extracting CSV File From Feature Selection (Manual Input)\n",
    "#if Xred.empty:\n",
    "X_csv = pd.read_csv('RFE_RandomForestClassifier()k_3.csv') #Example: 'RFE_RandomForestClassifier()k_3.csv'\n",
    "Xred = X_csv.set_index(\"PatientID\")\n",
    "\n",
    "#new input parameters - RF\n",
    "ntrees=1000     \n",
    "\n",
    "#input parameters to reestablished if first set of code is not performed before\n",
    "folds= 10\n",
    "score=\"accuracy\"\n",
    "#score = \"roc_auc\"\n",
    "\n",
    "numres=pd.get_dummies(Y)"
   ]
  },
  {
   "cell_type": "code",
   "execution_count": 6,
   "metadata": {},
   "outputs": [],
   "source": [
    "#Functions\n",
    "#Model 1: Logistic Regression\n",
    "def createLogisticRegression():    \n",
    "    pipe= Pipeline([\n",
    "        (\"scaler\", StandardScaler()),\n",
    "        (\"classifier\", LogisticRegression(max_iter=500)),\n",
    "    ])\n",
    "    return pipe\n",
    "\n",
    "#Model 2: SVC\n",
    "def createSVC():    \n",
    "    pipe= Pipeline([\n",
    "        (\"scaler\", StandardScaler()),\n",
    "        (\"classifier\", SVC(decision_function_shape=\"ovo\")),\n",
    "    ])\n",
    "    return pipe\n",
    "\n",
    "#Model 3: Random Forest Classifier\n",
    "def createRandomForestClassifier():    \n",
    "    pipe= Pipeline([\n",
    "        (\"scaler\", StandardScaler()),\n",
    "        (\"classifier\", RandomForestClassifier(n_estimators=ntrees, max_depth=3, random_state=0)),\n",
    "    ])\n",
    "    return pipe"
   ]
  },
  {
   "cell_type": "code",
   "execution_count": 7,
   "metadata": {},
   "outputs": [],
   "source": [
    "#Saving ROC Curves\n",
    "def predict_with_data(data_x, data_y, classifier, figname):\n",
    "    classifier.fit(data_x,data_y)\n",
    "    y_scores = cross_val_predict(classifier, data_x, data_y, cv=folds)\n",
    "    scores = cross_val_score(classifier, data_x, data_y, scoring=score, cv=folds)\n",
    "     \n",
    "    #graph ROC curve \n",
    "    fpr, tpr, thresholds= roc_curve(data_y,y_scores)\n",
    "\n",
    "    #save_plot_roc_curve(fpr, tpr, figname)\n",
    "    # Plot ROC curve\n",
    "    plt.plot(fpr, tpr, label='ROC curve (area = %0.3f)' % roc_auc_score(data_y,y_scores))\n",
    "    plt.plot([0, 1], [0, 1], 'k--')  # random predictions curve\n",
    "    plt.xlim([0.0, 1.0])\n",
    "    plt.ylim([0.0, 1.0])\n",
    "    plt.xlabel('False Positive Rate or (1 - Specifity)')\n",
    "    plt.ylabel('True Positive Rate or (Sensitivity)')\n",
    "    plt.title('Receiver Operating Characteristic')\n",
    "    plt.legend(loc=\"lower right\")\n",
    "    plt.savefig(str(figname) + \".png\")\n",
    "    \n",
    "    return (precision_score(data_y, y_scores),recall_score(data_y, y_scores), \n",
    "            roc_auc_score(data_y,y_scores), accuracy_score(data_y,y_scores))\n",
    "\n",
    "def classifier_results(cname,precision_log,recall_log,roc_log,acu_log):\n",
    "    #Save Time as Txt File\n",
    "    import os\n",
    "    file_exists=os.path.isfile('./Classifier_RFE_Metrics.txt')\n",
    "    run_date = datetime.datetime.now()\n",
    "\n",
    "    if file_exists:\n",
    "        file_object = open(\"Classifier_RFE_Metrics.txt\",\"a\")\n",
    "        file_object.write(str(run_date) +'\\t' + str(cname) + '\\t' + str(round(acu_log,3)) + '\\t' +\n",
    "            str(round(roc_log,3)) + '\\t' +\n",
    "            str(round(precision_log,3)) + '\\t' + str(round(recall_log,3))+'\\n')\n",
    "        file_object.close()\n",
    "    else:\n",
    "        file_object = open(\"Classifier_RFE_Metrics.txt\",\"a\")\n",
    "        file_object.write('Run date\\t' + 'Classifier\\t' + 'Accuracy\\t' + 'AUC\\t' + 'Precision\\t'+ 'Recall'+'\\n' +\n",
    "                          str(run_date)+'\\t' + str(cname) + '\\t' + str(round(acu_log,3)) + '\\t' +\n",
    "                          str(round(roc_log,3)) + '\\t' +\n",
    "                          str(round(precision_log,3)) + '\\t' +\n",
    "                          str(round(recall_log,3))+'\\n')\n",
    "        file_object.close() \n",
    "    return file_object"
   ]
  },
  {
   "cell_type": "code",
   "execution_count": 8,
   "metadata": {},
   "outputs": [
    {
     "ename": "NameError",
     "evalue": "name 'k' is not defined",
     "output_type": "error",
     "traceback": [
      "\u001b[0;31m---------------------------------------------------------------------------\u001b[0m",
      "\u001b[0;31mNameError\u001b[0m                                 Traceback (most recent call last)",
      "\u001b[0;32m<ipython-input-8-53ba0dfae01c>\u001b[0m in \u001b[0;36m<module>\u001b[0;34m\u001b[0m\n\u001b[1;32m      1\u001b[0m \u001b[0;31m#Logistic Regression Score\u001b[0m\u001b[0;34m\u001b[0m\u001b[0;34m\u001b[0m\u001b[0;34m\u001b[0m\u001b[0m\n\u001b[1;32m      2\u001b[0m \u001b[0mcname\u001b[0m\u001b[0;34m=\u001b[0m \u001b[0;34m'Logistic Regression'\u001b[0m\u001b[0;34m\u001b[0m\u001b[0;34m\u001b[0m\u001b[0m\n\u001b[0;32m----> 3\u001b[0;31m \u001b[0mfname\u001b[0m\u001b[0;34m=\u001b[0m \u001b[0;34m\"RFE_\"\u001b[0m \u001b[0;34m+\u001b[0m \u001b[0mstr\u001b[0m\u001b[0;34m(\u001b[0m\u001b[0mk\u001b[0m\u001b[0;34m)\u001b[0m \u001b[0;34m+\u001b[0m \u001b[0mstr\u001b[0m\u001b[0;34m(\u001b[0m\u001b[0mcname\u001b[0m\u001b[0;34m)\u001b[0m\u001b[0;34m+\u001b[0m\u001b[0;34m'_logreg'\u001b[0m\u001b[0;34m\u001b[0m\u001b[0;34m\u001b[0m\u001b[0m\n\u001b[0m\u001b[1;32m      4\u001b[0m \u001b[0mprecision_log\u001b[0m\u001b[0;34m,\u001b[0m\u001b[0mrecall_log\u001b[0m\u001b[0;34m,\u001b[0m\u001b[0mroc_log\u001b[0m\u001b[0;34m,\u001b[0m\u001b[0macu_log\u001b[0m\u001b[0;34m=\u001b[0m\u001b[0mpredict_with_data\u001b[0m\u001b[0;34m(\u001b[0m\u001b[0mXred\u001b[0m\u001b[0;34m,\u001b[0m\u001b[0mnumres\u001b[0m\u001b[0;34m.\u001b[0m\u001b[0mloc\u001b[0m\u001b[0;34m[\u001b[0m\u001b[0;34m:\u001b[0m\u001b[0;34m,\u001b[0m\u001b[0;34m'DECEASED'\u001b[0m\u001b[0;34m]\u001b[0m\u001b[0;34m,\u001b[0m\u001b[0mcreateLogisticRegression\u001b[0m\u001b[0;34m(\u001b[0m\u001b[0;34m)\u001b[0m\u001b[0;34m,\u001b[0m\u001b[0mfname\u001b[0m\u001b[0;34m)\u001b[0m\u001b[0;34m\u001b[0m\u001b[0;34m\u001b[0m\u001b[0m\n\u001b[1;32m      5\u001b[0m \u001b[0mclassifier_results\u001b[0m\u001b[0;34m(\u001b[0m\u001b[0mcname\u001b[0m\u001b[0;34m,\u001b[0m\u001b[0mprecision_log\u001b[0m\u001b[0;34m,\u001b[0m\u001b[0mrecall_log\u001b[0m\u001b[0;34m,\u001b[0m\u001b[0mroc_log\u001b[0m\u001b[0;34m,\u001b[0m\u001b[0macu_log\u001b[0m\u001b[0;34m)\u001b[0m\u001b[0;34m\u001b[0m\u001b[0;34m\u001b[0m\u001b[0m\n",
      "\u001b[0;31mNameError\u001b[0m: name 'k' is not defined"
     ]
    }
   ],
   "source": [
    "#Logistic Regression Score\n",
    "cname= 'Logistic Regression'\n",
    "fname= \"RFE_\" + str(k) + str(cname)+'_logreg'\n",
    "precision_log,recall_log,roc_log,acu_log=predict_with_data(Xred,numres.loc[:,'DECEASED'],createLogisticRegression(),fname)\n",
    "classifier_results(cname,precision_log,recall_log,roc_log,acu_log)\n",
    "\n",
    "print('Logistic Regression')\n",
    "print('---------') \n",
    "print('Precision: ', precision_log) \n",
    "print('Recall: ', recall_log) \n",
    "print('ROC AUC Score: ', roc_log) \n",
    "print ('Accuracy: ', acu_log) \n",
    "print('---------')"
   ]
  },
  {
   "cell_type": "code",
   "execution_count": 23,
   "metadata": {},
   "outputs": [
    {
     "name": "stdout",
     "output_type": "stream",
     "text": [
      "SVC\n",
      "---------\n",
      "Precision:  0.7582417582417582\n",
      "Recall:  0.75\n",
      "ROC AUC Score:  0.7455882352941177\n",
      "Accuracy:  0.7457627118644068\n",
      "---------\n"
     ]
    },
    {
     "data": {
      "image/png": "[encoded data removed]",
      "text/plain": [
       "<Figure size 432x288 with 1 Axes>"
      ]
     },
     "metadata": {
      "needs_background": "light"
     },
     "output_type": "display_data"
    }
   ],
   "source": [
    "#SVC Score\n",
    "cname= 'Support Vector Classifier'\n",
    "fname= \"RFE_\" + str(k) + str(cname)+'_svc'\n",
    "precision_svc,recall_svc,roc_svc,acu_svc=predict_with_data(Xred,numres.loc[:,'DECEASED'],createSVC(),fname)\n",
    "classifier_results(cname,precision_log,recall_log,roc_log,acu_log)\n",
    "\n",
    "print('SVC')\n",
    "print('---------') \n",
    "print('Precision: ', precision_svc) \n",
    "print('Recall: ', recall_svc) \n",
    "print('ROC AUC Score: ', roc_svc) \n",
    "print ('Accuracy: ', acu_svc) \n",
    "print('---------')"
   ]
  },
  {
   "cell_type": "code",
   "execution_count": 24,
   "metadata": {},
   "outputs": [
    {
     "name": "stdout",
     "output_type": "stream",
     "text": [
      "RandomForest\n",
      "---------\n",
      "Precision:  0.7244897959183674\n",
      "Recall:  0.7717391304347826\n",
      "ROC AUC Score:  0.7270460358056267\n",
      "Accuracy:  0.7288135593220338\n",
      "---------\n"
     ]
    },
    {
     "data": {
      "image/png": "[encoded data removed]",
      "text/plain": [
       "<Figure size 432x288 with 1 Axes>"
      ]
     },
     "metadata": {
      "needs_background": "light"
     },
     "output_type": "display_data"
    }
   ],
   "source": [
    "#Random Forest Classifier Score\n",
    "cname= 'Random Forest'\n",
    "fname= \"RFE_\" + str(k) + str(cname)+'_rf'\n",
    "precision_rf,recall_rf,roc_rf,acu_rf=predict_with_data(Xred,numres.loc[:,'DECEASED'],\n",
    "                                                       createRandomForestClassifier(),fname)\n",
    "classifier_results(cname,precision_log,recall_log,roc_log,acu_log)\n",
    "\n",
    "\n",
    "print('RandomForest')\n",
    "print('---------') \n",
    "print('Precision: ', precision_rf) \n",
    "print('Recall: ', recall_rf) \n",
    "print('ROC AUC Score: ', roc_rf) \n",
    "print ('Accuracy: ', acu_rf) \n",
    "print('---------')"
   ]
  },
  {
   "cell_type": "code",
   "execution_count": null,
   "metadata": {},
   "outputs": [],
   "source": []
  }
 ],
 "metadata": {
  "kernelspec": {
   "display_name": "Python 3",
   "language": "python",
   "name": "python3"
  },
  "language_info": {
   "codemirror_mode": {
    "name": "ipython",
    "version": 3
   },
   "file_extension": ".py",
   "mimetype": "text/x-python",
   "name": "python",
   "nbconvert_exporter": "python",
   "pygments_lexer": "ipython3",
   "version": "3.8.5"
  }
 },
 "nbformat": 4,
 "nbformat_minor": 4
}
