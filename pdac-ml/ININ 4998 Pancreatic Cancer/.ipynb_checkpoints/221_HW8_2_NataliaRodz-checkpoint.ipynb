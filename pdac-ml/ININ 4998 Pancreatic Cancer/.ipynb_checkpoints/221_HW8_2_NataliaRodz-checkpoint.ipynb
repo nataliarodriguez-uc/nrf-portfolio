{
 "cells": [
  {
   "cell_type": "markdown",
   "metadata": {},
   "source": [
    "Natalia Rodriguez Figueroa\n",
    "221 Homework 8 Pt2"
   ]
  },
  {
   "cell_type": "markdown",
   "metadata": {},
   "source": [
    "Price the corresponding American call option with the same input as the previous\n",
    "problem using a 100 step CRR binomial tree. Also calculate delta, gamma, theta, vega\n",
    "and rho using the techniques discussed in the lecture. Present your answers to 4 decimal\n",
    "places."
   ]
  },
  {
   "cell_type": "code",
   "execution_count": 170,
   "metadata": {},
   "outputs": [
    {
     "name": "stdout",
     "output_type": "stream",
     "text": [
      "100 Step CRR Binomial Tree\n",
      "american call value with 100 CRR =  13.2413\n",
      "delta=  0.5481\n",
      "gamma=  0.0112\n",
      "theta=  -6.0564\n",
      "vega=  37.4547\n",
      "rho=  33.9573\n"
     ]
    }
   ],
   "source": [
    "#100 Step CRR Binomial Tree\n",
    "print(\"100 Step CRR Binomial Tree\")\n",
    "\n",
    "import numpy as np #numpy library\n",
    "\n",
    "#Parameters\n",
    "S0=100\n",
    "K=100\n",
    "T=1\n",
    "r=0.06\n",
    "q=0.06\n",
    "sigma=0.35\n",
    "t_step=100\n",
    "\n",
    "def call_option(S0,K,T,r,q,sigma,t_step):\n",
    "\n",
    "    #Calculating Up/Down Movement and Probability\n",
    "    dt=T/t_step\n",
    "    u = np.exp((sigma*np.sqrt(dt)))\n",
    "    d = np.exp((-sigma*np.sqrt(dt)))\n",
    "    a = np.exp((r-q)*dt)\n",
    "    p = (a - d)/(u - d)\n",
    "\n",
    "    #Empty Matrices\n",
    "    call_matrixprices = np.zeros((t_step + 1, t_step + 1)) #start empty\n",
    "    S_matrix= np.zeros((t_step + 1, t_step + 1))\n",
    "    S_matrix[0,0]=S0\n",
    "\n",
    "    #Stock Prices\n",
    "    for i in range(0, t_step+1):\n",
    "        for j in range(0,i+1):\n",
    "            S_matrix[i][j] = S0*(u**j)*d**(i-j)\n",
    "\n",
    "    for j in range(0,t_step+1):\n",
    "        call_matrixprices[-1][j] = max(0,S_matrix[-1][j]-K)\n",
    "\n",
    "    #Risk Neutral Pricing Formula \n",
    "    for i in range(t_step-1,-1,-1):\n",
    "        for j in range(0,i+1):\n",
    "            call_matrixprices[i][j] = max(np.exp(-r*dt)*\n",
    "            (p*call_matrixprices[i+1][j+1] + \n",
    "             (1 - p)*call_matrixprices[i+1][j]),S_matrix[i][j]-K)\n",
    "            \n",
    "    return(S_matrix,call_matrixprices)\n",
    "\n",
    "#Return the f value at 0,0\n",
    "american_call_price = call_matrixprices[0][0]\n",
    "print(\"american call value with 100 CRR = \",round(american_call_price,4))\n",
    "\n",
    "#Delta\n",
    "delta = (call_matrixprices[1][1]-call_matrixprices[1][0])/\n",
    "        (S_matrix[1][1]-S_matrix[1][0])\n",
    "print(\"delta= \",round(delta,4))\n",
    "\n",
    "#Gamma\n",
    "delta1 = (call_matrixprices[2][1]-call_matrixprices[2][0])/\n",
    "        (S_matrix[2][1]-S_matrix[2][0])\n",
    "delta2 = (call_matrixprices[2][2]-call_matrixprices[2][1])/\n",
    "        (S_matrix[2][2]-S_matrix[2][1])\n",
    "gamma = (delta2-delta1)/(S_matrix[1][1]-S_matrix[1][0])\n",
    "print(\"gamma= \",round(gamma,4))\n",
    "\n",
    "#Theta\n",
    "theta = (call_matrixprices[2][1]-call_matrixprices[0][0])/\n",
    "        (2*T/t_step)\n",
    "print(\"theta= \",round(theta,4))\n",
    "\n",
    "#Vega\n",
    "vega = (call_option(S0,K,T,r,q,sigma+0.00001,t_step)[1][0][0]- \n",
    "        call_matrixprices[0][0])/0.00001\n",
    "print(\"vega= \",round(vega,4))\n",
    "\n",
    "#Rho\n",
    "rho = (call_option(S0,K,T,r+0.00001,q,sigma,t_step)[1][0][0]- \n",
    "       call_matrixprices[0][0])/0.00001\n",
    "print(\"rho= \",round(rho,4))\n",
    "\n",
    "\n",
    "\n",
    "\n",
    "\n",
    "\n"
   ]
  },
  {
   "cell_type": "code",
   "execution_count": 182,
   "metadata": {},
   "outputs": [
    {
     "name": "stdout",
     "output_type": "stream",
     "text": [
      "w =  -0.005\n",
      "a+ =  1.0\n",
      "H2 =  40.0\n",
      "Perpetual American Put Value =  16.0\n",
      "delta =  -0.16\n",
      "vega =  92.5934\n"
     ]
    }
   ],
   "source": [
    "r=0.05\n",
    "q=0.01\n",
    "S=100\n",
    "K=80\n",
    "sigma=0.30\n",
    "\n",
    "import numpy as np\n",
    "\n",
    "def put_value(r,q,S,K,sigma):\n",
    "    w=(r-q-0.5*sigma**2)\n",
    "    a=(w+np.sqrt(w**2 + 2*r*sigma**2))/(sigma**2)\n",
    "    H=(a*K)/(a+1)\n",
    "    if H < S:\n",
    "        p=(K/(a+1))*(((a+1)/a)*(S/K))**-a\n",
    "        return w,a,H,p\n",
    "\n",
    "print(\"w = \",round(put_value(r,q,S,K,sigma)[0],4))\n",
    "print(\"a+ = \",put_value(r,q,S,K,sigma)[1])\n",
    "print(\"H2 = \",put_value(r,q,S,K,sigma)[2])\n",
    "print(\"Perpetual American Put Value = \",put_value(r,q,S,K,sigma)[3])\n",
    "\n",
    "delta = -((a+1)*S/(a*K))**(-a-1)\n",
    "print(\"delta = \",round(delta,4))\n",
    "\n",
    "vega = (put_value(r,q,S,K,sigma+0.00001)[3]- put_value(r,q,S,K,sigma)[3])/0.00001\n",
    "print(\"vega = \", round(vega,4))\n",
    "\n",
    "\n"
   ]
  },
  {
   "cell_type": "code",
   "execution_count": null,
   "metadata": {},
   "outputs": [],
   "source": []
  }
 ],
 "metadata": {
  "kernelspec": {
   "display_name": "Python 3",
   "language": "python",
   "name": "python3"
  },
  "language_info": {
   "codemirror_mode": {
    "name": "ipython",
    "version": 3
   },
   "file_extension": ".py",
   "mimetype": "text/x-python",
   "name": "python",
   "nbconvert_exporter": "python",
   "pygments_lexer": "ipython3",
   "version": "3.8.5"
  }
 },
 "nbformat": 4,
 "nbformat_minor": 4
}
