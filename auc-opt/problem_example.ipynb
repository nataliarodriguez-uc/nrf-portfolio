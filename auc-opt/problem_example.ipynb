{
 "cells": [
  {
   "cell_type": "markdown",
   "id": "73f38e27",
   "metadata": {},
   "source": [
    "# AUC Proximal Method Notebook Demo"
   ]
  },
  {
   "cell_type": "markdown",
   "id": "57136593",
   "metadata": {},
   "source": [
    "## Dataset Construction"
   ]
  },
  {
   "cell_type": "code",
   "execution_count": null,
   "id": "214d809c",
   "metadata": {},
   "outputs": [],
   "source": [
    "\n",
    "from prox import compute_prox_ssn, compute_prox_ls\n",
    "from ssn import ssn\n",
    "from linesearch import compute_line_search\n",
    "from problem_variables import ALMVar, ProxVar, SSNVar, ALMLog, SSNParameters, LineSearchParameters\n",
    "from problem_updates import update_tol, update_iter, update_sigma_gamma, update_proxmethod\n",
    "from problem_instance import ProblemInstance, ProblemInstanceTrainTest, ProblemInstanceBatch"
   ]
  },
  {
   "cell_type": "code",
   "execution_count": 5,
   "id": "9a10deff",
   "metadata": {},
   "outputs": [
    {
     "name": "stdout",
     "output_type": "stream",
     "text": [
      "(10, 100)\n",
      "[51 49]\n"
     ]
    }
   ],
   "source": [
    "# Create a synthetic dataset with 100 samples, 10 features, 2 classes\n",
    "from problem_data import DataSet\n",
    "import numpy as np\n",
    "\n",
    "dataset = DataSet(\n",
    "    m=100,\n",
    "    n=10,\n",
    "    num_classes=2,\n",
    "    class_ratios=[0.5, 0.5],\n",
    "    sep_distance=2.0,\n",
    "    feature_noise=0.1,\n",
    "    flip_ratio=0.05\n",
    ")\n",
    "\n",
    "X = dataset.X\n",
    "y = dataset.y\n",
    "print(X.shape)  # (10, 100)\n",
    "print(np.bincount(y))  # Class balance\n"
   ]
  },
  {
   "cell_type": "code",
   "execution_count": 6,
   "id": "5313acfc",
   "metadata": {},
   "outputs": [
    {
     "ename": "ImportError",
     "evalue": "cannot import name 'plot_dataset_with_separator' from 'graphs' (/Users/nataliaa.rodriguez/Documents/UC Berkeley/Repositories/nrf-portfolio/auc-opt/graphs.py)",
     "output_type": "error",
     "traceback": [
      "\u001b[31m---------------------------------------------------------------------------\u001b[39m",
      "\u001b[31mImportError\u001b[39m                               Traceback (most recent call last)",
      "\u001b[36mCell\u001b[39m\u001b[36m \u001b[39m\u001b[32mIn[6]\u001b[39m\u001b[32m, line 1\u001b[39m\n\u001b[32m----> \u001b[39m\u001b[32m1\u001b[39m \u001b[38;5;28;01mfrom\u001b[39;00m\u001b[38;5;250m \u001b[39m\u001b[34;01mgraphs\u001b[39;00m\u001b[38;5;250m \u001b[39m\u001b[38;5;28;01mimport\u001b[39;00m plot_dataset_with_separator\n\u001b[32m      2\u001b[39m plot_dataset_with_separator(dataset)\n",
      "\u001b[31mImportError\u001b[39m: cannot import name 'plot_dataset_with_separator' from 'graphs' (/Users/nataliaa.rodriguez/Documents/UC Berkeley/Repositories/nrf-portfolio/auc-opt/graphs.py)"
     ]
    }
   ],
   "source": [
    "from graphs import plot_dataset_with_separator\n",
    "plot_dataset_with_separator(dataset)"
   ]
  },
  {
   "cell_type": "code",
   "execution_count": null,
   "id": "cd36f1fe",
   "metadata": {},
   "outputs": [],
   "source": []
  }
 ],
 "metadata": {
  "kernelspec": {
   "display_name": "venv",
   "language": "python",
   "name": "python3"
  },
  "language_info": {
   "codemirror_mode": {
    "name": "ipython",
    "version": 3
   },
   "file_extension": ".py",
   "mimetype": "text/x-python",
   "name": "python",
   "nbconvert_exporter": "python",
   "pygments_lexer": "ipython3",
   "version": "3.13.0"
  }
 },
 "nbformat": 4,
 "nbformat_minor": 5
}
